{
 "cells": [
  {
   "cell_type": "code",
   "execution_count": 1,
   "metadata": {},
   "outputs": [],
   "source": [
    "# Libraries\n",
    "import pandas as pd\n",
    "import numpy as np"
   ]
  },
  {
   "cell_type": "code",
   "execution_count": null,
   "metadata": {},
   "outputs": [],
   "source": [
    "# Import Data\n",
    "\n",
    "#df_diamonds = pd.read_csv ('../../../../ih_datamadpt1121_project_m2/db/Diamonds_db_SQL.csv')\n",
    "\n",
    "df_diamonds = pd.read_csv ('/Users/antoniohuerta/ironhack/ih_datamadpt1121_project_m2/db/Diamonds_db_SQL.csv')\n",
    "df_diamonds.head()"
   ]
  }
 ],
 "metadata": {
  "interpreter": {
   "hash": "92a10128c8f20be0a4c142bf521fae3b3d2efd4182b6e073e6bc041f3ffc1bc9"
  },
  "kernelspec": {
   "display_name": "Python 3.7.11 ('proyecto_2')",
   "language": "python",
   "name": "python3"
  },
  "language_info": {
   "codemirror_mode": {
    "name": "ipython",
    "version": 3
   },
   "file_extension": ".py",
   "mimetype": "text/x-python",
   "name": "python",
   "nbconvert_exporter": "python",
   "pygments_lexer": "ipython3",
   "version": "3.7.11"
  },
  "orig_nbformat": 4
 },
 "nbformat": 4,
 "nbformat_minor": 2
}
